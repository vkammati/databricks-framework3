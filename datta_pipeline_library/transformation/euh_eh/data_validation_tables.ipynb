{
 "cells": [
  {
   "cell_type": "code",
   "execution_count": 0,
   "metadata": {
    "application/vnd.databricks.v1+cell": {
     "cellMetadata": {},
     "inputWidgets": {},
     "nuid": "32bfaba2-7b80-4a6b-9798-8aed13b8a0f0",
     "showTitle": false,
     "tableResultSettingsMap": {},
     "title": ""
    }
   },
   "outputs": [],
   "source": [
    "%run ./common_functions"
   ]
  },
  {
   "cell_type": "code",
   "execution_count": 0,
   "metadata": {
    "application/vnd.databricks.v1+cell": {
     "cellMetadata": {},
     "inputWidgets": {},
     "nuid": "64c35b40-1f16-4e5f-bea1-4dea859a7d73",
     "showTitle": false,
     "tableResultSettingsMap": {},
     "title": ""
    }
   },
   "outputs": [],
   "source": [
    "print(raw_folder_path)\n",
    "print(eh_folder_path)\n",
    "print(uc_catalog_name)\n",
    "print(uc_raw_schema)\n",
    "print(uc_eh_schema)"
   ]
  },
  {
   "cell_type": "code",
   "execution_count": 0,
   "metadata": {
    "application/vnd.databricks.v1+cell": {
     "cellMetadata": {},
     "inputWidgets": {},
     "nuid": "88772947-f1e7-4954-bf23-e693f0f5f01a",
     "showTitle": true,
     "tableResultSettingsMap": {},
     "title": "Control table"
    }
   },
   "outputs": [],
   "source": [
    "spark.sql(f\"\"\"create or replace table `{uc_catalog_name}`.`{uc_raw_schema}`.dataValidation_Control_table(\n",
    "    Table_name string,\n",
    "    Measure String,\n",
    "    Date_field String,\n",
    "    From_Ind Integer,\n",
    "    To_Ind Integer\n",
    "    )\n",
    "    Using Delta Location '{raw_folder_path}/dataValidation_Control_table'\n",
    "\"\"\")"
   ]
  },
  {
   "cell_type": "code",
   "execution_count": 0,
   "metadata": {
    "application/vnd.databricks.v1+cell": {
     "cellMetadata": {},
     "inputWidgets": {},
     "nuid": "2a409cd9-5f23-4a1f-b363-e61124d40c08",
     "showTitle": true,
     "tableResultSettingsMap": {},
     "title": "Control table values"
    }
   },
   "outputs": [],
   "source": [
    "spark.sql(f\"\"\"insert into `{uc_catalog_name}`.`{uc_raw_schema}`.dataValidation_Control_table values\n",
    "          ('MSEG','`/CWM/MENGE`','CPUDT_MKPF',31,37),\n",
    "          ('MSEG','`/CWM/ERFMG`','CPUDT_MKPF',31,37),\n",
    "          ('VBRP','`/CWM/MENGE`','ERDAT',31,37),\n",
    "          ('GLPCA','TSL','CPUDT',31,37),\n",
    "          ('GLPCA','HSL','CPUDT',31,37),\n",
    "          ('GLPCA','KSL','CPUDT',31,37),\n",
    "          ('GLPCA','MSL','CPUDT',31,37),\n",
    "          ('MSEG','PALAN','CPUDT_MKPF',31,37),\n",
    "          ('MSEG','DMBTR','CPUDT_MKPF',31,37),\n",
    "          ('MSEG','BNBTR','CPUDT_MKPF',31,37),\n",
    "          ('MSEG','BUALT','CPUDT_MKPF',31,37),\n",
    "          ('MSEG','DMBUM','CPUDT_MKPF',31,37),\n",
    "          ('MSEG','VKWRA','CPUDT_MKPF',31,37),\n",
    "          ('MSEG','J_1BEXBASE','CPUDT_MKPF',31,37),\n",
    "          ('MSEG','OINAVNW','CPUDT_MKPF',31,37),\n",
    "          ('MSEG','OIFEETOT','CPUDT_MKPF',31,37),\n",
    "          ('MSEG','OIBASVAL','CPUDT_MKPF',31,37),\n",
    "          ('MSEG','MENGE','CPUDT_MKPF',31,37),\n",
    "          ('MSEG','ERFMG','CPUDT_MKPF',31,37),\n",
    "          ('MSEG','BPMNG','CPUDT_MKPF',31,37),\n",
    "          ('MSEG','BSTMG','CPUDT_MKPF',31,37),\n",
    "          ('MSEG','LBKUM','CPUDT_MKPF',31,37),\n",
    "          ('MSEG','LSMNG','CPUDT_MKPF',31,37),\n",
    "          ('MSEG','OIGLERF','CPUDT_MKPF',31,37),\n",
    "          ('MSEG','OIGLSKU','CPUDT_MKPF',31,37),\n",
    "          ('MSEG','OIGLBPR','CPUDT_MKPF',31,37),\n",
    "          ('MSEG','OIGLBST','CPUDT_MKPF',31,37),\n",
    "          ('MSEG','OIH_FOLQTY','CPUDT_MKPF',31,37),\n",
    "          ('MSEG','OITAXQT','CPUDT_MKPF',31,37),\n",
    "          ('MSEG','OIFUTQT','CPUDT_MKPF',31,37),\n",
    "          ('MSEG','OIFUTQT2','CPUDT_MKPF',31,37),\n",
    "          ('MSEG','OIH_FOLQTY_GI','CPUDT_MKPF',31,37),\n",
    "          ('MSEG','FSH_DEALLOC_QTY','CPUDT_MKPF',31,37),\n",
    "          ('MSEG','PBAMG','CPUDT_MKPF',31,37),\n",
    "          ('MSEG','EXBWR','CPUDT_MKPF',31,37),\n",
    "          ('MSEG','VKWRT','CPUDT_MKPF',31,37),\n",
    "          ('MSEG','EXVKW','CPUDT_MKPF',31,37),\n",
    "          ('MSEG','SALK3','CPUDT_MKPF',31,37),\n",
    "          ('MSEG','OIOILCON','CPUDT_MKPF',31,37),\n",
    "          ('MSEG','OIOILCON2','CPUDT_MKPF',31,37),\n",
    "          ('MSEG','OIBBSWQTY','CPUDT_MKPF',31,37),\n",
    "          ('VBRP','CMPRE','ERDAT',31,37),\n",
    "          ('VBRP','SKFBP','ERDAT',31,37),\n",
    "          ('VBRP','WAVWR','ERDAT',31,37),\n",
    "          ('VBRP','KZWI1','ERDAT',31,37),\n",
    "          ('VBRP','KZWI2','ERDAT',31,37),\n",
    "          ('VBRP','KZWI3','ERDAT',31,37),\n",
    "          ('VBRP','KZWI4','ERDAT',31,37),\n",
    "          ('VBRP','KZWI5','ERDAT',31,37),\n",
    "          ('VBRP','KZWI6','ERDAT',31,37),\n",
    "          ('VBRP','BONBA','ERDAT',31,37),\n",
    "          ('VBRP','MWSBP','ERDAT',31,37),\n",
    "          ('VBRP','NRAB_VALUE','ERDAT',31,37),\n",
    "          ('VBRP','OITAXLOD','ERDAT',31,37),\n",
    "          ('VBRP','OITAXISS','ERDAT',31,37),\n",
    "          ('VBRP','OITAXINV','ERDAT',31,37),\n",
    "          ('VBRP','OIFEETOT','ERDAT',31,37),\n",
    "          ('VBRP','FKIMG','ERDAT',31,37),\n",
    "          ('VBRP','SMENG','ERDAT',31,37),\n",
    "          ('VBRP','FKLMG','ERDAT',31,37),\n",
    "          ('VBRP','LMENG','ERDAT',31,37),\n",
    "          ('VBRP','OIH_FOLQTY','ERDAT',31,37),\n",
    "          ('VBRP','OIFKIMG','ERDAT',31,37),\n",
    "          ('VBRP','OISMENG','ERDAT',31,37),\n",
    "          ('VBRP','OIFKLMG','ERDAT',31,37),\n",
    "          ('VBRP','OILMENG','ERDAT',31,37),\n",
    "          ('VBRP','OIHFOLQTY','ERDAT',31,37),\n",
    "          ('VBRP','OIVMENG','ERDAT',31,37),\n",
    "          ('VBRP','OIU_A_H_VAL_FCT','ERDAT',31,37),\n",
    "          ('VBRP','NETWR','ERDAT',31,37),\n",
    "          ('VBRP','BRTWR','ERDAT',31,37),\n",
    "          ('VBRP','NTGEW','ERDAT',31,37),\n",
    "          ('VBRP','BRGEW','ERDAT',31,37),\n",
    "          ('VBRP','VOLUM','ERDAT',31,37),\n",
    "          ('VBRP','OILIMETF','ERDAT',31,37),\n",
    "          ('VBRP','OINTGEW','ERDAT',31,37),\n",
    "          ('VBRP','OIBRGEW','ERDAT',31,37),\n",
    "          ('VBRP','OIVOLUM','ERDAT',31,37),\n",
    "          ('VBRP','OILIKWTF','ERDAT',31,37),\n",
    "          ('VBRP','UMVKZ','ERDAT',31,37),\n",
    "          ('VBRP','UMVKN','ERDAT',31,37),\n",
    "          ('VBRP','OIOILCON','ERDAT',31,37),\n",
    "          ('VBRP','KURSK','ERDAT',31,37),\n",
    "          ('VBRP','STCUR','ERDAT',31,37),\n",
    "          ('VBRP','AKKUR','ERDAT',31,37)\n",
    "\"\"\")\n",
    "\n"
   ]
  },
  {
   "cell_type": "code",
   "execution_count": 0,
   "metadata": {
    "application/vnd.databricks.v1+cell": {
     "cellMetadata": {},
     "inputWidgets": {},
     "nuid": "0b6d7030-e551-467c-8371-121f08e523fb",
     "showTitle": true,
     "tableResultSettingsMap": {},
     "title": "Output Table"
    }
   },
   "outputs": [],
   "source": [
    "spark.sql(f\"\"\"create or replace table `{uc_catalog_name}`.`{uc_eh_schema}`.dataValidation_Output_table\n",
    "          (Table_Name string,\n",
    "          Record_Count string,\n",
    "          Measure String,\n",
    "          Measure_Sum decimal(35,2),\n",
    "          From_Ind Integer,\n",
    "          To_Ind Integer,\n",
    "          Ingested_at string)\n",
    "          using delta location '{eh_folder_path}/dataValidation_Output_table'\n",
    "\"\"\")"
   ]
  }
 ],
 "metadata": {
  "application/vnd.databricks.v1+notebook": {
   "computePreferences": null,
   "dashboards": [],
   "environmentMetadata": {
    "base_environment": "",
    "environment_version": "2"
   },
   "inputWidgetPreferences": null,
   "language": "python",
   "notebookMetadata": {
    "pythonIndentUnit": 4
   },
   "notebookName": "data_validation_tables",
   "widgets": {}
  },
  "language_info": {
   "name": "python"
  }
 },
 "nbformat": 4,
 "nbformat_minor": 0
}
